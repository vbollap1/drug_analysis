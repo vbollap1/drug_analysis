{
 "cells": [
  {
   "cell_type": "markdown",
   "metadata": {},
   "source": [
    "# Project : Accidental Drug Related Deaths"
   ]
  },
  {
   "cell_type": "markdown",
   "metadata": {},
   "source": [
    "##  Project Proposal :"
   ]
  },
  {
   "cell_type": "markdown",
   "metadata": {},
   "source": [
    "Data Set Description : \n",
    "A listing of each accidental death associated with drug overdose in Connecticut from 2012 to 2018. A \"Y\" value under \n",
    "the different substance columns indicates that particular substance was detected.\n",
    "Data are derived from an investigation by the Office of the Chief Medical Examiner which includes the toxicity report, death certificate, as well as a scene investigation.\n",
    "\n",
    "Project proposal includes data source location\n",
    "\n",
    "Data Source Loacation : \n",
    "\n",
    "During Project 1 I came to know about Data.Gov website. I am using asame website for project 2. \n",
    "1. Search for Data.gov in google\n",
    "2. Click on Data Tab on the top \n",
    "3. From the results select 'Accidental Drug Related Deaths 2012-2018  177 recent views' which will navigate to this link       https://catalog.data.gov/dataset/accidental-drug-related-deaths-january-2012-sept-2015.\n",
    "4. Then click on CSV download to download the data set. \n",
    "\n",
    "Note : This Data Set has mutiple formats but I have taken csv format.\n",
    "\n",
    "\n",
    "Describe how data source was discovered ? \n",
    "I googled 'Data.Gov' and then I clicked on the Data tab. From the results I selected https://catalog.data.gov/dataset/accidental-drug-related-deaths-january-2012-sept-2015.\n",
    "I discovered this website during Project 1. \n",
    "\n",
    "\n",
    "EDA and Accessabiltiy:\n",
    "Data is legally acessable and free to download but you might have to create account.\n",
    "Documented EDA is not available. There is no visualization present. Only, Description of the data set is given in the website and in Kaggle.\n",
    "\n",
    "\n",
    "Project proposal relevant to Data 601 objectives ? \n",
    "This Data set is totally related to the objectives we learnt in DATA 601. \n",
    "There is so much of scope for data cleaning, charecterization and visualization. \n",
    "Also, lots of hypothesis can be concluded by see this data Set. \n",
    "\n",
    "Does student understand the stories in the data?\n",
    "I don't have any specific experience related to this csv file. But this csv delas with numbers and percentages of deaths. \n",
    "I have similar kind of experience, where I used to work on policy premiums data sets. \n",
    "\n",
    "\n",
    "Data Size : \n",
    "Columns: 41\n",
    "Rows : 5106\n",
    "Size : 1765 Kb or 1.7 Mb\n",
    "\n",
    "Questions to be investigated :\n",
    "Which drug is causing the more deaths ? \n",
    "Which gender has most of the deaths ? \n",
    "\n",
    "Hypothesis 1 : \n",
    "Most of the students are prone to drugs. So, after visulaization : teengaers(14 to 22) might have more deaths related to drugs when compared to normal age( > 22) groups. \n",
    "\n",
    "Hypothesis 2 : \n",
    "Since this data is related to Connecticut and from surveys I know that the white race is about 81.6 percent, Most of the deaths related to drugs will be from white race when \n",
    "compared to other races. "
   ]
  },
  {
   "cell_type": "code",
   "execution_count": 1,
   "metadata": {},
   "outputs": [],
   "source": [
    "# importing all the libraries required.\n",
    "import pandas as pd\n",
    "import matplotlib.pyplot as plt\n",
    "from pandas.plotting import lag_plot\n",
    "import random"
   ]
  },
  {
   "cell_type": "code",
   "execution_count": 2,
   "metadata": {},
   "outputs": [],
   "source": [
    "# Loading the csv file into pandas data frame.\n",
    "data = pd.read_csv('Accidental_Drug_Related_Deaths_2012-2018.csv')"
   ]
  },
  {
   "cell_type": "markdown",
   "metadata": {},
   "source": [
    "### Data Cleaning :"
   ]
  },
  {
   "cell_type": "markdown",
   "metadata": {},
   "source": [
    "Before working with any data, finding out the missing values is important. The below code describes the total count of Nan values present in each column of the data set.\n",
    "\n",
    "The below code can be used to make cleaning decisions like\n",
    "1. Which columns to drop. \n",
    "2. Which rows can be removed ?\n",
    "3. Which rows can be replaced ?"
   ]
  },
  {
   "cell_type": "code",
   "execution_count": 3,
   "metadata": {},
   "outputs": [
    {
     "data": {
      "text/plain": [
       "ID                        0\n",
       "Date                      2\n",
       "DateType                  2\n",
       "Age                       3\n",
       "Sex                       6\n",
       "Race                     13\n",
       "ResidenceCity           173\n",
       "ResidenceCounty         797\n",
       "ResidenceState         1549\n",
       "DeathCity                 5\n",
       "DeathCounty            1100\n",
       "Location                 24\n",
       "LocationifOther        4515\n",
       "DescriptionofInjury     780\n",
       "InjuryPlace              66\n",
       "InjuryCity             1756\n",
       "InjuryCounty           2741\n",
       "InjuryState            3681\n",
       "COD                       0\n",
       "OtherSignifican        4936\n",
       "Heroin                 2576\n",
       "Cocaine                3584\n",
       "Fentanyl               2873\n",
       "FentanylAnalogue       4716\n",
       "Oxycodone              4498\n",
       "Oxymorphone            4997\n",
       "Ethanol                3858\n",
       "Hydrocodone            4987\n",
       "Benzodiazepine         3762\n",
       "Methadone              4631\n",
       "Amphet                 4946\n",
       "Tramad                 4975\n",
       "Morphine_NotHeroin     5063\n",
       "Hydromorphone          5080\n",
       "Other                  4670\n",
       "OpiateNOS              5017\n",
       "AnyOpioid              2639\n",
       "MannerofDeath            10\n",
       "DeathCityGeo              0\n",
       "ResidenceCityGeo         93\n",
       "InjuryCityGeo            78\n",
       "dtype: int64"
      ]
     },
     "execution_count": 3,
     "metadata": {},
     "output_type": "execute_result"
    }
   ],
   "source": [
    "# Finding out the total Nan value present in each column.\n",
    "data.isnull().sum()"
   ]
  },
  {
   "cell_type": "markdown",
   "metadata": {},
   "source": [
    "Clearly from the above results, following setps can be taken \n",
    "1. Date Column has just 2 missing values and when compared to 5000 columns it can be dropped. \n",
    "2. Since Age is number, any random value can be filled as it has no pattern.\n",
    "3. All the Drug column has values as Y which means Yes. So, the missing values indirectly mean 'No'.So instead of dropping them \n",
    "   all Nan values are replaced with N indicating as No.\n",
    "4. All the irrelevant columns can be dropped."
   ]
  },
  {
   "cell_type": "code",
   "execution_count": 4,
   "metadata": {},
   "outputs": [],
   "source": [
    "# The data frame is modified. \n",
    "# notnull() removes the Nan values present in Date column\n",
    "data = data[pd.notnull(data['Date'])]"
   ]
  },
  {
   "cell_type": "code",
   "execution_count": 5,
   "metadata": {},
   "outputs": [],
   "source": [
    "# The missing values are filled with random integers. \n",
    "data['Age'].fillna(random.randint(16,56), inplace = True)"
   ]
  },
  {
   "cell_type": "code",
   "execution_count": 6,
   "metadata": {},
   "outputs": [],
   "source": [
    "# Making sure that Age is always an integer. \n",
    "data['Age'] = data['Age'].astype('int')"
   ]
  },
  {
   "cell_type": "code",
   "execution_count": 7,
   "metadata": {},
   "outputs": [
    {
     "data": {
      "text/plain": [
       "0"
      ]
     },
     "execution_count": 7,
     "metadata": {},
     "output_type": "execute_result"
    }
   ],
   "source": [
    "# Making sure that Age column has no null values\n",
    "data['Age'].isnull().sum()"
   ]
  },
  {
   "cell_type": "code",
   "execution_count": 8,
   "metadata": {},
   "outputs": [],
   "source": [
    "# The data frame is modified. \n",
    "# notnull() removes the Nan values present in Race column\n",
    "data = data[pd.notnull(data['Race'])]"
   ]
  },
  {
   "cell_type": "code",
   "execution_count": 9,
   "metadata": {},
   "outputs": [],
   "source": [
    "# The data frame is modified. \n",
    "# notnull() removes the Nan values present in Sex Column\n",
    "data = data[pd.notnull(data['Sex'])]"
   ]
  },
  {
   "cell_type": "markdown",
   "metadata": {},
   "source": [
    "The data set has so many columns. The missing values in Drug columns mean something here. \n",
    "So, Instead of dropping them, they are replcaed. A person is identifed by a drug so he/she might eithr have it or not. This is the analysis I have found. \n",
    "So, I replaced all the missing values of Drug columns with N indicating as No. "
   ]
  },
  {
   "cell_type": "code",
   "execution_count": 10,
   "metadata": {},
   "outputs": [],
   "source": [
    "# drugNames is list which stores the drug column names of the data set. \n",
    "drugNames = list(data.columns[20:37])"
   ]
  },
  {
   "cell_type": "code",
   "execution_count": 11,
   "metadata": {},
   "outputs": [],
   "source": [
    "# This for loop replaces the Nan values with N for all the drug columns. \n",
    "for drugColumn in drugNames:\n",
    "    data[drugColumn].fillna('N', inplace=True)"
   ]
  },
  {
   "cell_type": "code",
   "execution_count": 12,
   "metadata": {},
   "outputs": [],
   "source": [
    "data['OtherSignifican'].fillna('Not Specified', inplace = True)"
   ]
  },
  {
   "cell_type": "markdown",
   "metadata": {},
   "source": [
    "Now that cleaning of the required data is done. Rest of the columns could be dropped. \n",
    "The columns starting from index 6  to 18 are dropped from the data set .\n",
    "I.e Residence City to InjuryState COlumns of the data set are dropped."
   ]
  },
  {
   "cell_type": "code",
   "execution_count": 13,
   "metadata": {},
   "outputs": [],
   "source": [
    "# This list holds the names of columns which are to be dropped\n",
    "dropColumns = list(data.columns[6:18])"
   ]
  },
  {
   "cell_type": "code",
   "execution_count": 14,
   "metadata": {},
   "outputs": [],
   "source": [
    "# This lopp drops the columns \n",
    "for columnName in dropColumns:\n",
    "    data = data.drop(columnName,axis = 1)"
   ]
  },
  {
   "cell_type": "markdown",
   "metadata": {},
   "source": [
    "### Visualization and Validating the Proposed Questions :"
   ]
  },
  {
   "cell_type": "markdown",
   "metadata": {},
   "source": [
    "Question 1 : Which gender has most of the deaths ? \n",
    "\n",
    "Result : For the gram, it is clearly depicted that Males have more number of deaths. "
   ]
  },
  {
   "cell_type": "markdown",
   "metadata": {},
   "source": [
    "To find the total number of death by gender, Sex column should be grouped."
   ]
  },
  {
   "cell_type": "code",
   "execution_count": 15,
   "metadata": {},
   "outputs": [],
   "source": [
    "# Data Frame is group by Gender column\n",
    "genderGroup = data.groupby('Sex')"
   ]
  },
  {
   "cell_type": "code",
   "execution_count": 16,
   "metadata": {},
   "outputs": [
    {
     "data": {
      "image/png": "[encoded data removed]",
      "text/plain": [
       "<Figure size 432x288 with 1 Axes>"
      ]
     },
     "metadata": {
      "needs_background": "light"
     },
     "output_type": "display_data"
    }
   ],
   "source": [
    "# Groupby variable holds the data frame by grouping Sex Column. Getting the count of it will answer the above question. \n",
    "# A bar graph is plotted to show the results. \n",
    "_ = genderGroup['Sex'].count().plot(kind = 'bar')\n",
    "_ = plt.xlabel('Gender')\n",
    "_ = plt.ylabel('Number of Deaths')\n",
    "_ = plt.title('Total number of deaths categorized by Gender')"
   ]
  },
  {
   "cell_type": "markdown",
   "metadata": {},
   "source": [
    "Question2 : Which drug is causing the more deaths ? \n",
    "\n",
    "Results : From the scatter plot, it displays that Heroin caused the most number of deaths"
   ]
  },
  {
   "cell_type": "markdown",
   "metadata": {},
   "source": [
    "Since I know the drug types from the data set. Calculating total number of deaths from each drug column will answer this question. I.e. counting the total number of 'Y' in each drug column. \n",
    "\n",
    "A list is declared which will append total number of deaths categorized by type of drug."
   ]
  },
  {
   "cell_type": "code",
   "execution_count": 17,
   "metadata": {},
   "outputs": [],
   "source": [
    "# Declaring an empty list\n",
    "totalValue = []"
   ]
  },
  {
   "cell_type": "code",
   "execution_count": 18,
   "metadata": {},
   "outputs": [],
   "source": [
    "# This loop will pick the drug column name and iterates through dat frame. \n",
    "# The summation counter increments if the value of each cell is not N. \n",
    "for drug in drugNames:\n",
    "    summation = 0\n",
    "    for index , value in data.iterrows():\n",
    "        if(data.at[index,drug] != 'N'):\n",
    "            summation = summation + 1\n",
    "    totalValue.append(summation)"
   ]
  },
  {
   "cell_type": "code",
   "execution_count": 27,
   "metadata": {},
   "outputs": [
    {
     "data": {
      "image/png": "[encoded data removed]",
      "text/plain": [
       "<Figure size 2160x720 with 1 Axes>"
      ]
     },
     "metadata": {
      "needs_background": "light"
     },
     "output_type": "display_data"
    }
   ],
   "source": [
    "# Plotting the results on a scatter plot. \n",
    "_=plt.figure(figsize=(30, 10))\n",
    "_=plt.scatter(drugNames,totalValue)\n",
    "_ = plt.xlabel('Type of Drug',fontsize = 20)\n",
    "_ = plt.ylabel('Total Number of Deaths',fontsize = 20)\n",
    "_ = plt.title('Total number of deaths categorized by type of Drug', fontsize = 30)\n",
    "_ =plt.grid(True)"
   ]
  },
  {
   "cell_type": "markdown",
   "metadata": {},
   "source": [
    "## Hypothesis Validation : "
   ]
  },
  {
   "cell_type": "markdown",
   "metadata": {},
   "source": [
    "### Hypothesis 1 : True\n",
    "\n",
    "Since this data is related to Connecticut and from surveys I know that the white race is about 81.6 percent, Most of the deaths related to drugs will be from white race when \n",
    "compared to other races. \n",
    "\n",
    "Programmatic Approach : \n",
    "1. Race column of the data set is grouped together. \n",
    "2. Count os Race column from the grouped variables is plotted on a bar graph. "
   ]
  },
  {
   "cell_type": "code",
   "execution_count": 20,
   "metadata": {},
   "outputs": [],
   "source": [
    "# Grouping the Race column\n",
    "raceGroup = data.groupby('Race')"
   ]
  },
  {
   "cell_type": "code",
   "execution_count": 21,
   "metadata": {},
   "outputs": [
    {
     "data": {
      "text/plain": [
       "Race\n",
       "Asian Indian                14\n",
       "Asian, Other                18\n",
       "Black                      433\n",
       "Chinese                      2\n",
       "Hawaiian                     1\n",
       "Hispanic, Black             24\n",
       "Hispanic, White            560\n",
       "Native American, Other       1\n",
       "Other                       11\n",
       "Unknown                     23\n",
       "White                     4001\n",
       "Name: Race, dtype: int64"
      ]
     },
     "execution_count": 21,
     "metadata": {},
     "output_type": "execute_result"
    }
   ],
   "source": [
    "# This code displays the total number of deaths caused by drugs categorized by Race in connecticut\n",
    "raceGroup['Race'].count()"
   ]
  },
  {
   "cell_type": "code",
   "execution_count": 22,
   "metadata": {},
   "outputs": [
    {
     "data": {
      "image/png": "[encoded data removed]",
      "text/plain": [
       "<Figure size 432x288 with 1 Axes>"
      ]
     },
     "metadata": {
      "needs_background": "light"
     },
     "output_type": "display_data"
    }
   ],
   "source": [
    "# Plotting the count of number of deaths from the grouped variable. \n",
    "_= plt.Figure(figsize = (50,30))\n",
    "_= raceGroup['Race'].count().plot(kind = 'bar')\n",
    "_ = plt.xlabel('Race', fontsize = 15)\n",
    "_ = plt.ylabel('Total number of Deaths',fontsize = 15)\n",
    "_ = plt.title('Total number of deaths categorized by Race',fontsize = 15)"
   ]
  },
  {
   "cell_type": "markdown",
   "metadata": {},
   "source": [
    "The above bar graph depicts that the most number of deaths are from white race."
   ]
  },
  {
   "cell_type": "markdown",
   "metadata": {},
   "source": [
    "### Hypothesis 2 : False\n",
    "\n",
    "Most of the students are prone to drugs. So, after visulaization : teengaers(14 to 22) might have more deaths related to drugs when compared to normal age( > 22) groups. \n",
    "\n",
    "Programmatic Approach : \n",
    "1. A new column in the data set is created by the name Teenager. \n",
    "2. This column is either false or true. \n",
    "3. A lamda expression is applied on this column which checks for the Age and applies True or False if the X<= 22 condition is met.\n",
    "3. A for loop is created to count the total number of deaths in Teenage Group and the  Other Groups \n",
    "4. The results are plotted on a pie chart."
   ]
  },
  {
   "cell_type": "code",
   "execution_count": 23,
   "metadata": {},
   "outputs": [],
   "source": [
    "# Creating a new column in the data set by the name Teenager. \n",
    "# lambda expression is applied which will declare the cell as True if the Age value is <= 22\n",
    "data['Teenager'] = data['Age'].apply(lambda x: x <= 22)"
   ]
  },
  {
   "cell_type": "code",
   "execution_count": 24,
   "metadata": {},
   "outputs": [
    {
     "data": {
      "text/html": [
       "<div>\n",
       "<style scoped>\n",
       "    .dataframe tbody tr th:only-of-type {\n",
       "        vertical-align: middle;\n",
       "    }\n",
       "\n",
       "    .dataframe tbody tr th {\n",
       "        vertical-align: top;\n",
       "    }\n",
       "\n",
       "    .dataframe thead th {\n",
       "        text-align: right;\n",
       "    }\n",
       "</style>\n",
       "<table border=\"1\" class=\"dataframe\">\n",
       "  <thead>\n",
       "    <tr style=\"text-align: right;\">\n",
       "      <th></th>\n",
       "      <th>ID</th>\n",
       "      <th>Date</th>\n",
       "      <th>DateType</th>\n",
       "      <th>Age</th>\n",
       "      <th>Sex</th>\n",
       "      <th>Race</th>\n",
       "      <th>COD</th>\n",
       "      <th>OtherSignifican</th>\n",
       "      <th>Heroin</th>\n",
       "      <th>Cocaine</th>\n",
       "      <th>...</th>\n",
       "      <th>Morphine_NotHeroin</th>\n",
       "      <th>Hydromorphone</th>\n",
       "      <th>Other</th>\n",
       "      <th>OpiateNOS</th>\n",
       "      <th>AnyOpioid</th>\n",
       "      <th>MannerofDeath</th>\n",
       "      <th>DeathCityGeo</th>\n",
       "      <th>ResidenceCityGeo</th>\n",
       "      <th>InjuryCityGeo</th>\n",
       "      <th>Teenager</th>\n",
       "    </tr>\n",
       "  </thead>\n",
       "  <tbody>\n",
       "    <tr>\n",
       "      <td>1</td>\n",
       "      <td>13-0102</td>\n",
       "      <td>03/21/2013 12:00:00 AM</td>\n",
       "      <td>DateofDeath</td>\n",
       "      <td>48</td>\n",
       "      <td>Male</td>\n",
       "      <td>Black</td>\n",
       "      <td>Cocaine Intoxication</td>\n",
       "      <td>Not Specified</td>\n",
       "      <td>N</td>\n",
       "      <td>Y</td>\n",
       "      <td>...</td>\n",
       "      <td>N</td>\n",
       "      <td>N</td>\n",
       "      <td>N</td>\n",
       "      <td>N</td>\n",
       "      <td>N</td>\n",
       "      <td>Accident</td>\n",
       "      <td>Norwalk, CT\\n(41.11805, -73.412906)</td>\n",
       "      <td>NORWALK, CT\\n(41.11805, -73.412906)</td>\n",
       "      <td>CT\\n(41.575155, -72.738288)</td>\n",
       "      <td>False</td>\n",
       "    </tr>\n",
       "    <tr>\n",
       "      <td>2</td>\n",
       "      <td>16-0165</td>\n",
       "      <td>03/13/2016 12:00:00 AM</td>\n",
       "      <td>DateofDeath</td>\n",
       "      <td>30</td>\n",
       "      <td>Female</td>\n",
       "      <td>White</td>\n",
       "      <td>Acute Heroin and Cocaine Intoxication</td>\n",
       "      <td>Not Specified</td>\n",
       "      <td>Y</td>\n",
       "      <td>Y</td>\n",
       "      <td>...</td>\n",
       "      <td>N</td>\n",
       "      <td>N</td>\n",
       "      <td>N</td>\n",
       "      <td>N</td>\n",
       "      <td>Y</td>\n",
       "      <td>Accident</td>\n",
       "      <td>Danbury, CT\\n(41.393666, -73.451539)</td>\n",
       "      <td>SANDY HOOK, CT\\n(41.419998, -73.282501)</td>\n",
       "      <td>NaN</td>\n",
       "      <td>False</td>\n",
       "    </tr>\n",
       "    <tr>\n",
       "      <td>3</td>\n",
       "      <td>16-0208</td>\n",
       "      <td>03/31/2016 12:00:00 AM</td>\n",
       "      <td>DateofDeath</td>\n",
       "      <td>23</td>\n",
       "      <td>Male</td>\n",
       "      <td>White</td>\n",
       "      <td>Acute Fentanyl and Morphine Intoxication</td>\n",
       "      <td>Not Specified</td>\n",
       "      <td>Y</td>\n",
       "      <td>N</td>\n",
       "      <td>...</td>\n",
       "      <td>N</td>\n",
       "      <td>N</td>\n",
       "      <td>N</td>\n",
       "      <td>N</td>\n",
       "      <td>Y</td>\n",
       "      <td>Accident</td>\n",
       "      <td>Greenwich, CT\\n(41.026526, -73.628549)</td>\n",
       "      <td>NaN</td>\n",
       "      <td>NaN</td>\n",
       "      <td>False</td>\n",
       "    </tr>\n",
       "    <tr>\n",
       "      <td>4</td>\n",
       "      <td>13-0052</td>\n",
       "      <td>02/13/2013 12:00:00 AM</td>\n",
       "      <td>DateofDeath</td>\n",
       "      <td>22</td>\n",
       "      <td>Male</td>\n",
       "      <td>Asian, Other</td>\n",
       "      <td>Fentanyl Intoxication</td>\n",
       "      <td>Not Specified</td>\n",
       "      <td>N</td>\n",
       "      <td>N</td>\n",
       "      <td>...</td>\n",
       "      <td>N</td>\n",
       "      <td>N</td>\n",
       "      <td>N</td>\n",
       "      <td>N</td>\n",
       "      <td>N</td>\n",
       "      <td>Accident</td>\n",
       "      <td>Greenwich, CT\\n(41.026526, -73.628549)</td>\n",
       "      <td>NaN</td>\n",
       "      <td>CT\\n(41.575155, -72.738288)</td>\n",
       "      <td>True</td>\n",
       "    </tr>\n",
       "    <tr>\n",
       "      <td>5</td>\n",
       "      <td>14-0277</td>\n",
       "      <td>06/29/2014 12:00:00 AM</td>\n",
       "      <td>DateofDeath</td>\n",
       "      <td>23</td>\n",
       "      <td>Male</td>\n",
       "      <td>White</td>\n",
       "      <td>Heroin Intoxication</td>\n",
       "      <td>Not Specified</td>\n",
       "      <td>Y</td>\n",
       "      <td>N</td>\n",
       "      <td>...</td>\n",
       "      <td>N</td>\n",
       "      <td>N</td>\n",
       "      <td>N</td>\n",
       "      <td>N</td>\n",
       "      <td>N</td>\n",
       "      <td>Accident</td>\n",
       "      <td>BRISTOL, CT\\n(41.673037, -72.945791)</td>\n",
       "      <td>BRISTOL, CT\\n(41.673037, -72.945791)</td>\n",
       "      <td>CT\\n(41.575155, -72.738288)</td>\n",
       "      <td>False</td>\n",
       "    </tr>\n",
       "  </tbody>\n",
       "</table>\n",
       "<p>5 rows × 30 columns</p>\n",
       "</div>"
      ],
      "text/plain": [
       "        ID                    Date     DateType  Age     Sex          Race  \\\n",
       "1  13-0102  03/21/2013 12:00:00 AM  DateofDeath   48    Male         Black   \n",
       "2  16-0165  03/13/2016 12:00:00 AM  DateofDeath   30  Female         White   \n",
       "3  16-0208  03/31/2016 12:00:00 AM  DateofDeath   23    Male         White   \n",
       "4  13-0052  02/13/2013 12:00:00 AM  DateofDeath   22    Male  Asian, Other   \n",
       "5  14-0277  06/29/2014 12:00:00 AM  DateofDeath   23    Male         White   \n",
       "\n",
       "                                        COD OtherSignifican Heroin Cocaine  \\\n",
       "1                      Cocaine Intoxication   Not Specified      N       Y   \n",
       "2     Acute Heroin and Cocaine Intoxication   Not Specified      Y       Y   \n",
       "3  Acute Fentanyl and Morphine Intoxication   Not Specified      Y       N   \n",
       "4                     Fentanyl Intoxication   Not Specified      N       N   \n",
       "5                       Heroin Intoxication   Not Specified      Y       N   \n",
       "\n",
       "   ... Morphine_NotHeroin Hydromorphone Other OpiateNOS AnyOpioid  \\\n",
       "1  ...                  N             N     N         N         N   \n",
       "2  ...                  N             N     N         N         Y   \n",
       "3  ...                  N             N     N         N         Y   \n",
       "4  ...                  N             N     N         N         N   \n",
       "5  ...                  N             N     N         N         N   \n",
       "\n",
       "  MannerofDeath                            DeathCityGeo  \\\n",
       "1      Accident     Norwalk, CT\\n(41.11805, -73.412906)   \n",
       "2      Accident    Danbury, CT\\n(41.393666, -73.451539)   \n",
       "3      Accident  Greenwich, CT\\n(41.026526, -73.628549)   \n",
       "4      Accident  Greenwich, CT\\n(41.026526, -73.628549)   \n",
       "5      Accident    BRISTOL, CT\\n(41.673037, -72.945791)   \n",
       "\n",
       "                          ResidenceCityGeo                InjuryCityGeo  \\\n",
       "1      NORWALK, CT\\n(41.11805, -73.412906)  CT\\n(41.575155, -72.738288)   \n",
       "2  SANDY HOOK, CT\\n(41.419998, -73.282501)                          NaN   \n",
       "3                                      NaN                          NaN   \n",
       "4                                      NaN  CT\\n(41.575155, -72.738288)   \n",
       "5     BRISTOL, CT\\n(41.673037, -72.945791)  CT\\n(41.575155, -72.738288)   \n",
       "\n",
       "  Teenager  \n",
       "1    False  \n",
       "2    False  \n",
       "3    False  \n",
       "4     True  \n",
       "5    False  \n",
       "\n",
       "[5 rows x 30 columns]"
      ]
     },
     "execution_count": 24,
     "metadata": {},
     "output_type": "execute_result"
    }
   ],
   "source": [
    "# Displaying the data frame after adding Teenager Column\n",
    "# Observe the last column name of the data set\n",
    "data.head()"
   ]
  },
  {
   "cell_type": "code",
   "execution_count": 25,
   "metadata": {},
   "outputs": [],
   "source": [
    "# This loop iterates through the data set and checks for Teenager Column. \n",
    "# Other age group Counter is incremented if Teenager is matcher with False and vice versa.\n",
    "Teenager  = 0 #Teenage Counter\n",
    "NotATeenager = 0 # Other Age Group Counter\n",
    "for index , value in data.iterrows():\n",
    "    if(data.at[index,'Teenager'] == False):\n",
    "        NotATeenager = NotATeenager + 1\n",
    "    else:\n",
    "        Teenager = Teenager + 1"
   ]
  },
  {
   "cell_type": "code",
   "execution_count": 26,
   "metadata": {},
   "outputs": [
    {
     "data": {
      "image/png": "[encoded data removed]",
      "text/plain": [
       "<Figure size 432x288 with 1 Axes>"
      ]
     },
     "metadata": {},
     "output_type": "display_data"
    }
   ],
   "source": [
    "# PLotting a pie graph\n",
    "labels = 'Teenage Group(<=22)', 'Other Age Groups(>22)'\n",
    "sizes = [Teenager, NotATeenager]\n",
    "colors = ['lightcoral', 'lightskyblue']\n",
    "explode = (0.1, 0)  # explode 1st slice\n",
    "\n",
    "\n",
    "plt.pie(sizes, explode=explode, labels=labels, colors=colors,\n",
    "autopct='%1.1f%%', shadow=True, startangle=140)\n",
    "plt.title('Percentage of Deaths by age groups')\n",
    "plt.axis('equal')\n",
    "plt.show()"
   ]
  },
  {
   "cell_type": "markdown",
   "metadata": {},
   "source": [
    "The above pie chart depicts that only 4.2 percent of the deaths are in teenage group. This means that most of the people are prone to drungs with age greater than 23."
   ]
  }
 ],
 "metadata": {
  "kernelspec": {
   "display_name": "Python 3",
   "language": "python",
   "name": "python3"
  },
  "language_info": {
   "codemirror_mode": {
    "name": "ipython",
    "version": 3
   },
   "file_extension": ".py",
   "mimetype": "text/x-python",
   "name": "python",
   "nbconvert_exporter": "python",
   "pygments_lexer": "ipython3",
   "version": "3.7.4"
  }
 },
 "nbformat": 4,
 "nbformat_minor": 2
}
